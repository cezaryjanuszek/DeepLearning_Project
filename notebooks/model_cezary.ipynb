{
 "cells": [
  {
   "cell_type": "code",
   "execution_count": 1,
   "id": "f8ba72d1",
   "metadata": {
    "lines_to_next_cell": 1
   },
   "outputs": [],
   "source": [
    "import torch\n",
    "import torch.nn as nn\n",
    "from torch import optim"
   ]
  },
  {
   "cell_type": "markdown",
   "id": "cf7614f5",
   "metadata": {},
   "source": [
    "#### Load data"
   ]
  },
  {
   "cell_type": "code",
   "execution_count": 2,
   "id": "38f1654b",
   "metadata": {},
   "outputs": [],
   "source": [
    "device = torch . device ('cuda' if torch.cuda.is_available() else 'cpu')"
   ]
  },
  {
   "cell_type": "code",
   "execution_count": 3,
   "id": "1e4a470a",
   "metadata": {},
   "outputs": [],
   "source": [
    "noisy_imgs_1, noisy_imgs_2 = torch.load('../data/train_data.pkl')\n",
    "noisy_imgs, clean_imgs = torch.load('../data/val_data.pkl')"
   ]
  },
  {
   "cell_type": "code",
   "execution_count": 16,
   "id": "6151b09a",
   "metadata": {},
   "outputs": [],
   "source": [
    "img_C = noisy_imgs_1.shape[0]\n",
    "img_W = noisy_imgs_1.shape[2]\n",
    "img_H = noisy_imgs_1.shape[3]"
   ]
  },
  {
   "cell_type": "code",
   "execution_count": 22,
   "id": "cc73a36c",
   "metadata": {},
   "outputs": [],
   "source": [
    "### For mini - project 1\n",
    "class Model ():\n",
    "    def __init__(self) -> None :\n",
    "        # instantaiate model + optimizer + loss function + any other stuff you need\n",
    "\n",
    "        # model: UNet - first idea: use alternate convd2 with relu activation and leakyrelu at the end\n",
    "        self.model = nn.Sequential(\n",
    "            nn.Conv2d(img_C, 64, 3, stride=1, padding=1),\n",
    "            nn.ReLU(inplace=True), \n",
    "            nn.Conv2d(64, 48, 3, padding=1),\n",
    "            nn.ReLU(inplace=True),\n",
    "            nn.MaxPool2d(2),\n",
    "            nn.Conv2d(48, 48, 3, padding=1),\n",
    "            nn.ReLU(inplace=True),\n",
    "            nn.Conv2d(48, 64, 3, padding=1),\n",
    "            nn.ReLU(inplace=True),\n",
    "            nn.Conv2d(64, img_C, 3, stride=1, padding=1),\n",
    "            nn.LeakyReLU(0.1)\n",
    "        )\n",
    "        # can also use upsampling2d layer or7and maxpooling2d for decoding\n",
    "        \n",
    "        # optimizer: Adam; try different learning rates\n",
    "        self.optim = optim.Adam(self.model.parameters(), lr = 1e-3)\n",
    "\n",
    "        # loss function: MSE or HDRLoss for MonteCarlo images ? \n",
    "        self.loss = nn.MSELoss()\n",
    "\n",
    "    def load_pretrained_model(self) -> None :\n",
    "        ## This loads the parameters saved in bestmodel .pth into the model\n",
    "        pass\n",
    "\n",
    "    def train(self, train_input, train_target, num_epochs) -> None :\n",
    "        #: train˙input : tensor of size (N, C, H, W) containing a noisy version of the images\n",
    "        #: train˙target : tensor of size (N, C, H, W) containing another noisy version of the same images , which only differs from the input by their noise .\n",
    "        mini_batch_size = 100\n",
    "\n",
    "        for e in range(num_epochs):\n",
    "            for b in range(0, train_input.size(0), mini_batch_size):\n",
    "                output = self.model(train_input.narrow(0, b, mini_batch_size))\n",
    "                loss = self.loss(output, train_target.narrow(0, b, mini_batch_size))\n",
    "                self.model.zero_grad()\n",
    "                loss.backward()\n",
    "                self.optimizer.step()\n",
    "\n",
    "    def predict(self, test_input ) -> torch.Tensor:\n",
    "        #:test_input : tensor of size (N1 , C, H, W) that has to be denoised by the trained or the loaded network .\n",
    "        #: returns a tensor of the size (N1 , C, H, W)\n",
    "        pass"
   ]
  },
  {
   "cell_type": "code",
   "execution_count": 21,
   "id": "1a182795",
   "metadata": {},
   "outputs": [
    {
     "ename": "TypeError",
     "evalue": "train() missing 1 required positional argument: 'num_epochs'",
     "output_type": "error",
     "traceback": [
      "\u001b[1;31m---------------------------------------------------------------------------\u001b[0m",
      "\u001b[1;31mTypeError\u001b[0m                                 Traceback (most recent call last)",
      "\u001b[1;32m~\\AppData\\Local\\Temp/ipykernel_88584/1248685408.py\u001b[0m in \u001b[0;36m<module>\u001b[1;34m\u001b[0m\n\u001b[0;32m      1\u001b[0m \u001b[0mmodel\u001b[0m \u001b[1;33m=\u001b[0m \u001b[0mModel\u001b[0m\u001b[1;33m(\u001b[0m\u001b[1;33m)\u001b[0m\u001b[1;33m\u001b[0m\u001b[1;33m\u001b[0m\u001b[0m\n\u001b[1;32m----> 2\u001b[1;33m \u001b[0mmodel\u001b[0m\u001b[1;33m.\u001b[0m\u001b[0mtrain\u001b[0m\u001b[1;33m(\u001b[0m\u001b[0mnoisy_imgs_1\u001b[0m\u001b[1;33m,\u001b[0m \u001b[0mnoisy_imgs_2\u001b[0m\u001b[1;33m)\u001b[0m\u001b[1;33m\u001b[0m\u001b[1;33m\u001b[0m\u001b[0m\n\u001b[0m",
      "\u001b[1;31mTypeError\u001b[0m: train() missing 1 required positional argument: 'num_epochs'"
     ]
    }
   ],
   "source": [
    "model = Model()\n",
    "model.train(noisy_imgs_1, noisy_imgs_2)"
   ]
  },
  {
   "cell_type": "code",
   "execution_count": null,
   "id": "ec8113a3",
   "metadata": {},
   "outputs": [],
   "source": []
  }
 ],
 "metadata": {
  "interpreter": {
   "hash": "05c62fd4a2c0b8f9b34fd07d525d94a1e9beb33a056c649ea73d5b364e4320b5"
  },
  "jupytext": {
   "cell_metadata_filter": "-all",
   "main_language": "python",
   "notebook_metadata_filter": "-all"
  },
  "kernelspec": {
   "display_name": "Python 3.8.11 ('ds')",
   "language": "python",
   "name": "python3"
  },
  "language_info": {
   "codemirror_mode": {
    "name": "ipython",
    "version": 3
   },
   "file_extension": ".py",
   "mimetype": "text/x-python",
   "name": "python",
   "nbconvert_exporter": "python",
   "pygments_lexer": "ipython3",
   "version": "3.8.11"
  }
 },
 "nbformat": 4,
 "nbformat_minor": 5
}
