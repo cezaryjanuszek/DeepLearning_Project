{
  "cells": [
    {
      "cell_type": "code",
      "execution_count": 1,
      "id": "f8ba72d1",
      "metadata": {
        "lines_to_next_cell": 1,
        "id": "f8ba72d1"
      },
      "outputs": [],
      "source": [
        "import torch\n",
        "import torch.nn as nn\n",
        "from torch import optim\n",
        "\n",
        "try:\n",
        "    from tqdm import tqdm\n",
        "except ImportError:\n",
        "    tqdm = lambda x: x"
      ]
    },
    {
      "cell_type": "code",
      "source": [
        "from google.colab import drive\n",
        "drive.mount('/content/drive')"
      ],
      "metadata": {
        "colab": {
          "base_uri": "https://localhost:8080/"
        },
        "id": "N1JkeheiPcIm",
        "outputId": "195fbd74-7cdb-4365-c959-12d9c554d3af"
      },
      "id": "N1JkeheiPcIm",
      "execution_count": 2,
      "outputs": [
        {
          "output_type": "stream",
          "name": "stdout",
          "text": [
            "Mounted at /content/drive\n"
          ]
        }
      ]
    },
    {
      "cell_type": "markdown",
      "id": "cf7614f5",
      "metadata": {
        "id": "cf7614f5"
      },
      "source": [
        "#### Load data"
      ]
    },
    {
      "cell_type": "code",
      "execution_count": 3,
      "id": "38f1654b",
      "metadata": {
        "id": "38f1654b"
      },
      "outputs": [],
      "source": [
        "device = torch.device ('cuda' if torch.cuda.is_available() else 'cpu')"
      ]
    },
    {
      "cell_type": "code",
      "execution_count": 4,
      "id": "1e4a470a",
      "metadata": {
        "id": "1e4a470a"
      },
      "outputs": [],
      "source": [
        "noisy_imgs_1, noisy_imgs_2 = torch.load('drive/MyDrive/data/train_data.pkl')\n",
        "noisy_imgs, clean_imgs = torch.load('drive/MyDrive/data/val_data.pkl')"
      ]
    },
    {
      "cell_type": "code",
      "execution_count": 5,
      "id": "6151b09a",
      "metadata": {
        "id": "6151b09a"
      },
      "outputs": [],
      "source": [
        "train_input, train_target = noisy_imgs_1.float()/255.0, noisy_imgs_2.float()/255.0\n",
        "test_input, test_target = noisy_imgs.float()/255.0, clean_imgs.float()/255.0\n",
        "\n",
        "# put tensors on cuda\n",
        "train_input, train_target = train_input.to(device), train_target.to(device)\n",
        "test_input, test_target = test_input.to(device), test_target.to(device)\n",
        "\n",
        "img_channels = noisy_imgs_1.shape[1]\n",
        "img_width = noisy_imgs_1.shape[2]\n",
        "img_height = noisy_imgs_1.shape[3]"
      ]
    },
    {
      "cell_type": "code",
      "source": [
        "def psnr(denoised,ground_truth):\n",
        "    mse=torch.mean((denoised-ground_truth)**2)\n",
        "    return  - 10 * torch.log10(((denoised-ground_truth) ** 2).mean((1,2,3))).mean()"
      ],
      "metadata": {
        "id": "eSFU6knyTz_U"
      },
      "id": "eSFU6knyTz_U",
      "execution_count": 6,
      "outputs": []
    },
    {
      "cell_type": "code",
      "execution_count": 21,
      "id": "cc73a36c",
      "metadata": {
        "id": "cc73a36c"
      },
      "outputs": [],
      "source": [
        "from torch.nn.modules import padding\n",
        "### For mini - project 1\n",
        "class Model():\n",
        "    def __init__(self) -> None :\n",
        "        # instantaiate model + optimizer + loss function + any other stuff you need\n",
        "\n",
        "        # model: UNet - first idea: use alternate convd2 with relu activation and leakyrelu at the end\n",
        "        #self.model = nn.Sequential(\n",
        "         #   nn.Linear(32, 128),\n",
        "          #  nn.ReLU(),\n",
        "           # nn.Linear(128, 32)\n",
        "        #)\n",
        "        \"\"\"\n",
        "        self.model = nn.Sequential(\n",
        "            nn.Conv2d(img_channels, 64, 3, stride=1, padding=1),\n",
        "            nn.ReLU(inplace=True), \n",
        "            nn.Conv2d(64, 48, 3, padding=1),\n",
        "            nn.ReLU(inplace=True),\n",
        "            nn.Conv2d(48, 48, 3, padding=1),\n",
        "            nn.ReLU(inplace=1),\n",
        "            nn.Conv2d(48, 64, 3, padding=1),\n",
        "            nn.ReLU(inplace=True),\n",
        "            nn.Conv2d(64, img_channels, 3, stride=1, padding=1),\n",
        "            nn.LeakyReLU(0.1)\n",
        "        )\"\"\"\n",
        "\n",
        "        self.model = nn.Sequential(\n",
        "            # encoder\n",
        "            nn.Conv2d(img_channels, 32, 3, padding='same'),\n",
        "            nn.ReLU(),\n",
        "            nn.Conv2d(32, 32, 3, padding='same'),\n",
        "            nn.ReLU(),\n",
        "            nn.MaxPool2d(2),\n",
        "            nn.Conv2d(32, 64, 3, padding='same'),\n",
        "            nn.ReLU(),\n",
        "            nn.Conv2d(64, 64, 3, padding='same'),\n",
        "            nn.ReLU(),\n",
        "            nn.MaxPool2d(2),\n",
        "            nn.Conv2d(64, 128, 3, padding='same'),\n",
        "            nn.ReLU(),\n",
        "            nn.Conv2d(128, 128, 3, padding='same'),\n",
        "            nn.ReLU(),\n",
        "            nn.MaxPool2d(2),\n",
        "            nn.Conv2d(128, 256, 3, padding='same'),\n",
        "            nn.ReLU(),\n",
        "            # decoder\n",
        "            nn.Conv2d(256, 256, 3, padding='same'),\n",
        "            nn.ReLU(),\n",
        "            nn.UpsamplingNearest2d(scale_factor=2),\n",
        "            nn.ConvTranspose2d(256, 128, 3, padding=1),\n",
        "            nn.Conv2d(128, 128, 3, padding='same'),\n",
        "            nn.ReLU(),\n",
        "            nn.Conv2d(128, 128, 3, padding='same'),\n",
        "            nn.ReLU(),\n",
        "            nn.UpsamplingNearest2d(scale_factor=2),\n",
        "            nn.ConvTranspose2d(128, 64, 3, padding=1),\n",
        "            nn.Conv2d(64, 64, 3, padding='same'),\n",
        "            nn.ReLU(),\n",
        "            nn.Conv2d(64, 64, 3, padding='same'),\n",
        "            nn.ReLU(),\n",
        "            nn.UpsamplingNearest2d(scale_factor=2),\n",
        "            nn.ConvTranspose2d(64, 32, 3, padding=1),\n",
        "            nn.Conv2d(32, 32, 3, padding='same'),\n",
        "            nn.ReLU(),\n",
        "            nn.Conv2d(32, 32, 3, padding='same'),\n",
        "            nn.ReLU(),\n",
        "            nn.Conv2d(32, img_channels, 3, padding='same'),\n",
        "            nn.ReLU(),\n",
        "            nn.Conv2d(img_channels, img_channels, 1, padding='same'),\n",
        "            nn.Sigmoid()\n",
        "        )\n",
        "        \n",
        "        # can also use upsampling2d layer or7and maxpooling2d for decoding\n",
        "        self.model.to(device)\n",
        "\n",
        "        # optimizer: Adam; try different learning rates\n",
        "        self.optimizer = optim.Adam(self.model.parameters(), lr = 1e-3)\n",
        "  \n",
        "        # loss function: MSE or HDRLoss for MonteCarlo images ? \n",
        "        self.loss = nn.MSELoss()\n",
        "        self.loss.to(device)\n",
        "\n",
        "    def load_pretrained_model(self) -> None :\n",
        "        ## This loads the parameters saved in bestmodel .pth into the model\n",
        "        pass\n",
        "\n",
        "    def train(self, train_input, train_target, num_epochs) -> None :\n",
        "        #: train˙input : tensor of size (N, C, H, W) containing a noisy version of the images\n",
        "        #: train˙target : tensor of size (N, C, H, W) containing another noisy version of the same images , which only differs from the input by their noise .\n",
        "        \n",
        "        mini_batch_size = 100\n",
        "\n",
        "        for e in range(num_epochs):\n",
        "          print('Epoch:', e)\n",
        "          losses = []\n",
        "          for b in range(0, train_input.size(0), mini_batch_size):\n",
        "              output = self.model(train_input.narrow(0, b, mini_batch_size))\n",
        "              loss = self.loss(output, train_target.narrow(0, b, mini_batch_size))\n",
        "              losses.append(loss)\n",
        "      \n",
        "              self.optimizer.zero_grad()\n",
        "              loss.backward()\n",
        "              self.optimizer.step()\n",
        "          print('Loss = ', sum(losses)/(train_input.size(0)/mini_batch_size))\n",
        "\n",
        "    def predict(self, test_input ) -> torch.Tensor:\n",
        "        #:test_input : tensor of size (N1 , C, H, W) that has to be denoised by the trained or the loaded network .\n",
        "        #: returns a tensor of the size (N1 , C, H, W)\n",
        "        return self.model(test_input)\n"
      ]
    },
    {
      "cell_type": "code",
      "execution_count": 22,
      "id": "1a182795",
      "metadata": {
        "id": "1a182795"
      },
      "outputs": [],
      "source": [
        "model = Model()"
      ]
    },
    {
      "cell_type": "code",
      "source": [
        "# train the model\n",
        "model.train(train_input, train_target, 30)"
      ],
      "metadata": {
        "colab": {
          "base_uri": "https://localhost:8080/"
        },
        "id": "AbBv_sA0ZRQS",
        "outputId": "1d5c5fcd-719d-4885-fd49-46c3b20ccab0"
      },
      "id": "AbBv_sA0ZRQS",
      "execution_count": null,
      "outputs": [
        {
          "output_type": "stream",
          "name": "stdout",
          "text": [
            "Epoch: 0\n",
            "Loss =  tensor(0.0764, device='cuda:0', grad_fn=<DivBackward0>)\n",
            "Epoch: 1\n",
            "Loss =  tensor(0.0742, device='cuda:0', grad_fn=<DivBackward0>)\n",
            "Epoch: 2\n",
            "Loss =  tensor(0.0741, device='cuda:0', grad_fn=<DivBackward0>)\n",
            "Epoch: 3\n",
            "Loss =  tensor(0.0741, device='cuda:0', grad_fn=<DivBackward0>)\n",
            "Epoch: 4\n",
            "Loss =  tensor(0.0741, device='cuda:0', grad_fn=<DivBackward0>)\n",
            "Epoch: 5\n",
            "Loss =  tensor(0.0741, device='cuda:0', grad_fn=<DivBackward0>)\n",
            "Epoch: 6\n",
            "Loss =  tensor(0.0741, device='cuda:0', grad_fn=<DivBackward0>)\n",
            "Epoch: 7\n",
            "Loss =  tensor(0.0741, device='cuda:0', grad_fn=<DivBackward0>)\n",
            "Epoch: 8\n",
            "Loss =  tensor(0.0741, device='cuda:0', grad_fn=<DivBackward0>)\n",
            "Epoch: 9\n"
          ]
        }
      ]
    },
    {
      "cell_type": "code",
      "source": [
        "output = model.predict(test_input)\n",
        "print(output)"
      ],
      "metadata": {
        "colab": {
          "base_uri": "https://localhost:8080/"
        },
        "id": "X3nSgUTBcO_o",
        "outputId": "53ba3036-d042-4923-9836-8d4e84a5c071"
      },
      "id": "X3nSgUTBcO_o",
      "execution_count": 16,
      "outputs": [
        {
          "output_type": "stream",
          "name": "stdout",
          "text": [
            "tensor([[[[0.5210, 0.5403, 0.6315,  ..., 0.7755, 0.7619, 0.7665],\n",
            "          [0.5393, 0.5783, 0.6661,  ..., 0.8335, 0.8235, 0.8030],\n",
            "          [0.5639, 0.5947, 0.6345,  ..., 0.8486, 0.8394, 0.8108],\n",
            "          ...,\n",
            "          [0.5502, 0.5550, 0.5452,  ..., 0.4651, 0.4448, 0.4516],\n",
            "          [0.5551, 0.5518, 0.5456,  ..., 0.4830, 0.4745, 0.4689],\n",
            "          [0.5360, 0.5253, 0.5215,  ..., 0.4700, 0.4815, 0.4710]],\n",
            "\n",
            "         [[0.4872, 0.4903, 0.5883,  ..., 0.7583, 0.7395, 0.7438],\n",
            "          [0.5063, 0.5336, 0.6123,  ..., 0.8007, 0.7792, 0.7702],\n",
            "          [0.5398, 0.5601, 0.5959,  ..., 0.8204, 0.8079, 0.7848],\n",
            "          ...,\n",
            "          [0.5374, 0.5437, 0.5353,  ..., 0.2931, 0.2954, 0.3450],\n",
            "          [0.5397, 0.5346, 0.5323,  ..., 0.3513, 0.3563, 0.3835],\n",
            "          [0.5257, 0.5066, 0.5025,  ..., 0.3719, 0.4037, 0.4236]],\n",
            "\n",
            "         [[0.4781, 0.4734, 0.5852,  ..., 0.7752, 0.7658, 0.7710],\n",
            "          [0.5088, 0.5175, 0.5880,  ..., 0.8081, 0.7979, 0.7946],\n",
            "          [0.5512, 0.5587, 0.5818,  ..., 0.8250, 0.8150, 0.8078],\n",
            "          ...,\n",
            "          [0.5518, 0.5616, 0.5443,  ..., 0.2914, 0.3341, 0.4126],\n",
            "          [0.5541, 0.5485, 0.5388,  ..., 0.3735, 0.4154, 0.4501],\n",
            "          [0.5357, 0.5201, 0.5145,  ..., 0.4348, 0.4790, 0.4866]]],\n",
            "\n",
            "\n",
            "        [[[0.7895, 0.8741, 0.8537,  ..., 0.6883, 0.7584, 0.8108],\n",
            "          [0.9283, 0.9627, 0.9310,  ..., 0.6740, 0.7816, 0.7974],\n",
            "          [0.9664, 0.9698, 0.9353,  ..., 0.6180, 0.7401, 0.7797],\n",
            "          ...,\n",
            "          [0.7943, 0.8094, 0.7767,  ..., 0.5985, 0.5754, 0.5685],\n",
            "          [0.7655, 0.7904, 0.7494,  ..., 0.5800, 0.5751, 0.5679],\n",
            "          [0.7087, 0.7768, 0.7156,  ..., 0.5846, 0.5578, 0.5572]],\n",
            "\n",
            "         [[0.7273, 0.7850, 0.7526,  ..., 0.6300, 0.7024, 0.7577],\n",
            "          [0.8472, 0.8565, 0.8330,  ..., 0.5974, 0.7131, 0.7480],\n",
            "          [0.8926, 0.8872, 0.8544,  ..., 0.5431, 0.6747, 0.7387],\n",
            "          ...,\n",
            "          [0.5914, 0.6063, 0.5746,  ..., 0.4493, 0.4285, 0.4334],\n",
            "          [0.5777, 0.5888, 0.5593,  ..., 0.4283, 0.4320, 0.4239],\n",
            "          [0.5395, 0.5846, 0.5313,  ..., 0.4340, 0.4116, 0.4209]],\n",
            "\n",
            "         [[0.6286, 0.6625, 0.6405,  ..., 0.6244, 0.6699, 0.7303],\n",
            "          [0.7439, 0.7313, 0.7307,  ..., 0.5673, 0.6706, 0.7098],\n",
            "          [0.7805, 0.7793, 0.7600,  ..., 0.4993, 0.6107, 0.6805],\n",
            "          ...,\n",
            "          [0.4094, 0.4263, 0.3971,  ..., 0.3272, 0.3038, 0.3056],\n",
            "          [0.3978, 0.4159, 0.3854,  ..., 0.3082, 0.3062, 0.3002],\n",
            "          [0.3780, 0.4204, 0.3773,  ..., 0.3183, 0.2906, 0.2937]]],\n",
            "\n",
            "\n",
            "        [[[0.2255, 0.3125, 0.3614,  ..., 0.6250, 0.6185, 0.6191],\n",
            "          [0.1826, 0.2343, 0.2274,  ..., 0.6355, 0.6237, 0.6206],\n",
            "          [0.1673, 0.2187, 0.2558,  ..., 0.6055, 0.6143, 0.5890],\n",
            "          ...,\n",
            "          [0.0821, 0.1138, 0.1137,  ..., 0.0585, 0.0556, 0.0672],\n",
            "          [0.0768, 0.0907, 0.1183,  ..., 0.0755, 0.0754, 0.0663],\n",
            "          [0.0951, 0.0858, 0.1000,  ..., 0.0760, 0.0766, 0.0763]],\n",
            "\n",
            "         [[0.2570, 0.2699, 0.2789,  ..., 0.7180, 0.7141, 0.7213],\n",
            "          [0.2329, 0.2451, 0.2307,  ..., 0.7202, 0.7126, 0.7161],\n",
            "          [0.2193, 0.2424, 0.2720,  ..., 0.6958, 0.6970, 0.6795],\n",
            "          ...,\n",
            "          [0.1111, 0.1685, 0.1921,  ..., 0.0874, 0.0971, 0.0976],\n",
            "          [0.1177, 0.1695, 0.2271,  ..., 0.1012, 0.1112, 0.1060],\n",
            "          [0.1607, 0.1842, 0.2120,  ..., 0.0976, 0.1042, 0.1116]],\n",
            "\n",
            "         [[0.3071, 0.2802, 0.2562,  ..., 0.8173, 0.8187, 0.8261],\n",
            "          [0.3318, 0.3242, 0.3095,  ..., 0.8253, 0.8226, 0.8270],\n",
            "          [0.3270, 0.3239, 0.3428,  ..., 0.7936, 0.7947, 0.7889],\n",
            "          ...,\n",
            "          [0.2103, 0.2916, 0.3421,  ..., 0.1364, 0.1578, 0.1576],\n",
            "          [0.1987, 0.2862, 0.3854,  ..., 0.1702, 0.1799, 0.1658],\n",
            "          [0.2488, 0.3138, 0.3735,  ..., 0.1729, 0.1761, 0.1600]]],\n",
            "\n",
            "\n",
            "        ...,\n",
            "\n",
            "\n",
            "        [[[0.6317, 0.6417, 0.6356,  ..., 0.5803, 0.4612, 0.3881],\n",
            "          [0.6501, 0.6633, 0.6613,  ..., 0.5695, 0.4341, 0.3343],\n",
            "          [0.6363, 0.6491, 0.6479,  ..., 0.5466, 0.3839, 0.2808],\n",
            "          ...,\n",
            "          [0.5219, 0.5450, 0.5371,  ..., 0.4076, 0.2696, 0.1524],\n",
            "          [0.5632, 0.5819, 0.5839,  ..., 0.2666, 0.2286, 0.1772],\n",
            "          [0.5764, 0.5976, 0.5922,  ..., 0.2447, 0.2478, 0.2229]],\n",
            "\n",
            "         [[0.6366, 0.6374, 0.6352,  ..., 0.5876, 0.4606, 0.3791],\n",
            "          [0.6499, 0.6537, 0.6540,  ..., 0.5673, 0.4256, 0.3280],\n",
            "          [0.6376, 0.6490, 0.6508,  ..., 0.5458, 0.3862, 0.2839],\n",
            "          ...,\n",
            "          [0.5131, 0.5375, 0.5269,  ..., 0.3601, 0.2388, 0.1302],\n",
            "          [0.5568, 0.5755, 0.5765,  ..., 0.2039, 0.1818, 0.1343],\n",
            "          [0.5732, 0.5900, 0.5901,  ..., 0.1785, 0.1770, 0.1613]],\n",
            "\n",
            "         [[0.6291, 0.6242, 0.6297,  ..., 0.5797, 0.4487, 0.3517],\n",
            "          [0.6478, 0.6434, 0.6479,  ..., 0.5622, 0.4058, 0.2862],\n",
            "          [0.6348, 0.6381, 0.6381,  ..., 0.5333, 0.3550, 0.2345],\n",
            "          ...,\n",
            "          [0.5046, 0.5302, 0.5125,  ..., 0.3115, 0.1880, 0.0870],\n",
            "          [0.5564, 0.5687, 0.5696,  ..., 0.1346, 0.1167, 0.0793],\n",
            "          [0.5774, 0.5916, 0.5938,  ..., 0.1157, 0.1083, 0.0977]]],\n",
            "\n",
            "\n",
            "        [[[0.5060, 0.5051, 0.5035,  ..., 0.9071, 0.8652, 0.8250],\n",
            "          [0.4991, 0.5175, 0.5561,  ..., 0.9238, 0.8689, 0.8504],\n",
            "          [0.4836, 0.5223, 0.5737,  ..., 0.9109, 0.8639, 0.8207],\n",
            "          ...,\n",
            "          [0.5025, 0.5856, 0.6258,  ..., 0.6738, 0.5976, 0.4861],\n",
            "          [0.5169, 0.6057, 0.5980,  ..., 0.6820, 0.5795, 0.4239],\n",
            "          [0.5252, 0.5700, 0.5280,  ..., 0.7243, 0.5798, 0.4362]],\n",
            "\n",
            "         [[0.5840, 0.5987, 0.6149,  ..., 0.7028, 0.6917, 0.6958],\n",
            "          [0.5821, 0.6205, 0.6662,  ..., 0.7437, 0.7410, 0.7571],\n",
            "          [0.5861, 0.6312, 0.6934,  ..., 0.7868, 0.7930, 0.7891],\n",
            "          ...,\n",
            "          [0.6320, 0.6708, 0.6499,  ..., 0.7855, 0.7221, 0.6432],\n",
            "          [0.6321, 0.6805, 0.6342,  ..., 0.7655, 0.6904, 0.5659],\n",
            "          [0.6267, 0.6641, 0.6031,  ..., 0.6959, 0.6128, 0.5008]],\n",
            "\n",
            "         [[0.4028, 0.3698, 0.3706,  ..., 0.5067, 0.4657, 0.4678],\n",
            "          [0.3825, 0.3798, 0.4178,  ..., 0.4970, 0.4657, 0.4702],\n",
            "          [0.3755, 0.4019, 0.4532,  ..., 0.4808, 0.4628, 0.4615],\n",
            "          ...,\n",
            "          [0.3578, 0.4552, 0.5347,  ..., 0.4825, 0.4366, 0.3651],\n",
            "          [0.3565, 0.4442, 0.4892,  ..., 0.4864, 0.4175, 0.3140],\n",
            "          [0.3738, 0.4150, 0.4290,  ..., 0.4985, 0.4160, 0.3052]]],\n",
            "\n",
            "\n",
            "        [[[0.9610, 0.9594, 0.8952,  ..., 0.9141, 0.9017, 0.9154],\n",
            "          [0.9448, 0.9392, 0.8832,  ..., 0.8289, 0.8623, 0.9071],\n",
            "          [0.5909, 0.5746, 0.5727,  ..., 0.8693, 0.9041, 0.9173],\n",
            "          ...,\n",
            "          [0.3284, 0.3442, 0.3437,  ..., 0.2002, 0.1953, 0.1785],\n",
            "          [0.3107, 0.3404, 0.3300,  ..., 0.1954, 0.1889, 0.1891],\n",
            "          [0.2609, 0.3092, 0.3368,  ..., 0.2669, 0.2281, 0.2219]],\n",
            "\n",
            "         [[0.9431, 0.9324, 0.8646,  ..., 0.8835, 0.8998, 0.9229],\n",
            "          [0.9211, 0.9298, 0.8961,  ..., 0.7821, 0.8409, 0.9107],\n",
            "          [0.5756, 0.6136, 0.6527,  ..., 0.8337, 0.8836, 0.9186],\n",
            "          ...,\n",
            "          [0.2863, 0.3038, 0.3014,  ..., 0.3141, 0.3190, 0.3100],\n",
            "          [0.2758, 0.3081, 0.2898,  ..., 0.2740, 0.3003, 0.2986],\n",
            "          [0.2274, 0.2743, 0.2929,  ..., 0.3023, 0.3151, 0.2981]],\n",
            "\n",
            "         [[0.9555, 0.9405, 0.8763,  ..., 0.8740, 0.9280, 0.9662],\n",
            "          [0.9124, 0.9421, 0.9232,  ..., 0.7393, 0.8535, 0.9466],\n",
            "          [0.5830, 0.6431, 0.6935,  ..., 0.8113, 0.8757, 0.9379],\n",
            "          ...,\n",
            "          [0.2546, 0.2779, 0.2718,  ..., 0.0959, 0.0882, 0.0778],\n",
            "          [0.2454, 0.2801, 0.2646,  ..., 0.0953, 0.0672, 0.0727],\n",
            "          [0.1958, 0.2445, 0.2652,  ..., 0.1364, 0.0875, 0.0797]]]],\n",
            "       device='cuda:0', grad_fn=<LeakyReluBackward0>)\n"
          ]
        }
      ]
    },
    {
      "cell_type": "code",
      "execution_count": 17,
      "id": "ec8113a3",
      "metadata": {
        "id": "ec8113a3",
        "colab": {
          "base_uri": "https://localhost:8080/"
        },
        "outputId": "30c06664-2af3-428e-e463-b414b4fc4cad"
      },
      "outputs": [
        {
          "output_type": "execute_result",
          "data": {
            "text/plain": [
              "tensor(25.2335, device='cuda:0', grad_fn=<MulBackward0>)"
            ]
          },
          "metadata": {},
          "execution_count": 17
        }
      ],
      "source": [
        "model_outputs = []\n",
        "for b in range(0, test_input.size(0), 100):\n",
        "    output = model.predict(test_input.narrow(0, b, 100))\n",
        "    model_outputs.append(output)\n",
        "model_outputs = torch.cat(model_outputs, dim=0)\n",
        "\n",
        "output_psnr = psnr(model_outputs, test_target.to(device))\n",
        "output_psnr"
      ]
    },
    {
      "cell_type": "code",
      "source": [
        "  "
      ],
      "metadata": {
        "id": "BmL6GDh4W7BJ"
      },
      "id": "BmL6GDh4W7BJ",
      "execution_count": null,
      "outputs": []
    }
  ],
  "metadata": {
    "interpreter": {
      "hash": "05c62fd4a2c0b8f9b34fd07d525d94a1e9beb33a056c649ea73d5b364e4320b5"
    },
    "jupytext": {
      "cell_metadata_filter": "-all",
      "main_language": "python",
      "notebook_metadata_filter": "-all"
    },
    "kernelspec": {
      "display_name": "Python 3.8.11 ('ds')",
      "language": "python",
      "name": "python3"
    },
    "language_info": {
      "codemirror_mode": {
        "name": "ipython",
        "version": 3
      },
      "file_extension": ".py",
      "mimetype": "text/x-python",
      "name": "python",
      "nbconvert_exporter": "python",
      "pygments_lexer": "ipython3",
      "version": "3.8.11"
    },
    "colab": {
      "name": "model_cezary.ipynb",
      "provenance": [],
      "collapsed_sections": []
    },
    "accelerator": "GPU"
  },
  "nbformat": 4,
  "nbformat_minor": 5
}