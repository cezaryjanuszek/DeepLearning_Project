{
 "cells": [
  {
   "cell_type": "code",
   "execution_count": 1,
   "id": "f8ba72d1",
   "metadata": {
    "lines_to_next_cell": 1
   },
   "outputs": [
    {
     "data": {
      "text/plain": [
       "'NVIDIA GeForce RTX 3060 Laptop GPU'"
      ]
     },
     "execution_count": 1,
     "metadata": {},
     "output_type": "execute_result"
    }
   ],
   "source": [
    "from torch import nn\n",
    "import torch\n",
    "from torch.nn import functional as F\n",
    "from torch import optim\n",
    "import torchvision.transforms as T\n",
    "from torchvision.io import read_image\n",
    "import PIL\n",
    "from pathlib import Path\n",
    "\n",
    "import matplotlib.pyplot as plt\n",
    "import numpy as np\n",
    "import time\n",
    "\n",
    "try:\n",
    "    from tqdm import tqdm\n",
    "except ImportError:\n",
    "    tqdm = lambda x: x\n",
    "\n",
    "torch.cuda.get_device_name(torch.cuda.current_device())"
   ]
  },
  {
   "cell_type": "markdown",
   "id": "cf7614f5",
   "metadata": {},
   "source": [
    "#### Load data"
   ]
  },
  {
   "cell_type": "code",
   "execution_count": 2,
   "id": "1e4a470a",
   "metadata": {},
   "outputs": [],
   "source": [
    "noisy_imgs_1, noisy_imgs_2 = torch.load('../data/train_data.pkl')"
   ]
  },
  {
   "cell_type": "code",
   "execution_count": 3,
   "id": "d06779e8-4b0d-489b-93d6-ad3a0fb0c582",
   "metadata": {},
   "outputs": [
    {
     "data": {
      "text/plain": [
       "torch.Size([50000, 3, 32, 32])"
      ]
     },
     "execution_count": 3,
     "metadata": {},
     "output_type": "execute_result"
    }
   ],
   "source": [
    "noisy_imgs_1.shape"
   ]
  },
  {
   "cell_type": "code",
   "execution_count": 4,
   "id": "60067e6a-0164-4a7b-a461-55ddf46eb25a",
   "metadata": {},
   "outputs": [
    {
     "data": {
      "text/plain": [
       "torch.Size([50000, 3, 32, 32])"
      ]
     },
     "execution_count": 4,
     "metadata": {},
     "output_type": "execute_result"
    }
   ],
   "source": [
    "noisy_imgs_2.shape"
   ]
  },
  {
   "cell_type": "code",
   "execution_count": 5,
   "id": "2cb1ac2a-cd0b-452f-a8da-4eae08635ebe",
   "metadata": {},
   "outputs": [],
   "source": [
    "noisy_imgs, clean_imgs = torch.load('../data/val_data.pkl')"
   ]
  },
  {
   "cell_type": "code",
   "execution_count": 7,
   "id": "387dc3c1-3333-45e8-aca8-1427a0f6d41c",
   "metadata": {},
   "outputs": [],
   "source": [
    "train_input,train_target=noisy_imgs_1.float()/255.0,noisy_imgs_2.float()/255.0\n",
    "test_input,test_target=noisy_imgs.float()/255.0,clean_imgs.float()/255.0"
   ]
  },
  {
   "cell_type": "code",
   "execution_count": 21,
   "id": "87cd4014-81a6-4cc8-b909-822b31d43e3f",
   "metadata": {},
   "outputs": [],
   "source": [
    "model1= nn.Sequential(\n",
    "            nn.Linear(32, 128),\n",
    "            nn.ReLU(),\n",
    "            nn.Linear(128, 32)\n",
    "    )\n",
    "model2=nn.Sequential(\n",
    "            nn.Linear(32, 128),\n",
    "            nn.ReLU(),\n",
    "            nn.Conv2d(3,3,2),\n",
    "            nn.ReLU(),\n",
    "            nn.ConvTranspose2d(3,3,2),\n",
    "            nn.ReLU(),    \n",
    "            nn.Linear(128, 32)\n",
    "    )\n",
    "model3=nn.Sequential(\n",
    "            nn.Linear(32, 128),\n",
    "            nn.ReLU(),\n",
    "            nn.Conv2d(3,3,2,stride=2),\n",
    "            nn.ReLU(),\n",
    "            nn.ConvTranspose2d(3,3,2,stride=2),\n",
    "            nn.ReLU(),    \n",
    "            nn.Linear(128, 32)\n",
    "    )\n",
    "model4=nn.Sequential(\n",
    "            nn.Linear(32, 128),\n",
    "            nn.ReLU(),\n",
    "            nn.Conv2d(3,3,2,stride=2),\n",
    "            nn.ReLU(),\n",
    "            nn.Conv2d(3,3,4,stride=2),\n",
    "            nn.ReLU(),\n",
    "            nn.ConvTranspose2d(3,3,4,stride=2),\n",
    "            nn.ReLU(),\n",
    "            nn.ConvTranspose2d(3,3,2,stride=2),\n",
    "            nn.ReLU(),    \n",
    "            nn.Linear(128, 32)\n",
    "    )\n",
    "model5=nn.Sequential(\n",
    "            nn.Linear(32, 64),\n",
    "            nn.ReLU(),\n",
    "            nn.Linear(64, 128),\n",
    "            nn.ReLU(),\n",
    "            nn.Linear(128,256),\n",
    "            nn.ReLU(),\n",
    "            nn.Linear(256, 32),\n",
    "            nn.ReLU(),\n",
    "            nn.Linear(128, 64),\n",
    "            nn.ReLU(),\n",
    "            nn.Linear(64, 32)\n",
    "    )\n",
    "model6=nn.Sequential(\n",
    "            nn.Conv2d(3, 3,2,stride=2),\n",
    "            nn.ReLU(),\n",
    "            nn.Conv2d(3,3,2,stride=2),\n",
    "            nn.ReLU(),\n",
    "            nn.ConvTranspose2d(3,3,2,stride=2),\n",
    "            nn.ReLU(),\n",
    "            nn.ConvTranspose2d(3,3,2,stride=2)\n",
    "    )"
   ]
  },
  {
   "cell_type": "code",
   "execution_count": 15,
   "id": "a0510322-92eb-4290-bff5-5ecd1740bcb7",
   "metadata": {},
   "outputs": [],
   "source": [
    "def train_model(mod,train_input,train_target,batch_size=100,lr=1e-3,nb_epochs=10):\n",
    "    model=mod\n",
    "    criterion = nn.MSELoss()\n",
    "    optimizer = torch.optim.Adam(model.parameters(),lr=lr)\n",
    "    for e in range(nb_epochs):\n",
    "        print('Epoch------>',e,end=' ')\n",
    "        losses=[]\n",
    "        start_time = time.time()\n",
    "        for b in range(0,len(train_input),batch_size):\n",
    "            output = model(train_input.narrow(0, b, batch_size))\n",
    "            loss = criterion(output, train_target.narrow(0, b, batch_size))\n",
    "            \n",
    "            losses.append(loss)\n",
    "            \n",
    "            model.zero_grad()\n",
    "            loss.backward()\n",
    "            optimizer.step()\n",
    "        current_time = time.time()\n",
    "        elapsed_time = current_time - start_time\n",
    "        print('Loss----->',sum(losses)/(train_input.size(0)/batch_size),end=' ')\n",
    "        print('Time----->{} seconds'.format(elapsed_time),end='\\n')"
   ]
  },
  {
   "cell_type": "code",
   "execution_count": 16,
   "id": "e2870577-5727-438c-9b7f-88ebb7f0dcc3",
   "metadata": {},
   "outputs": [],
   "source": [
    "def psnr(denoised,ground_truth):\n",
    "    mse=torch.mean((denoised-ground_truth)**2)\n",
    "    return  - 10 * torch.log10(((denoised-ground_truth) ** 2).mean((1,2,3))).mean()\n",
    "def test_model(model,test_input,test_target,batch_size):\n",
    "    model_outputs = []\n",
    "    for b in tqdm(range(0, test_input.size(0), batch_size)):\n",
    "        output = model(test_input.narrow(0, b, batch_size))\n",
    "        model_outputs.append(output)\n",
    "    model_outputs = torch.cat(model_outputs, dim=0)\n",
    "\n",
    "    output_psnr = psnr(model_outputs, test_target)\n",
    "    return output_psnr"
   ]
  },
  {
   "cell_type": "code",
   "execution_count": 17,
   "id": "0bce2b78-dfc6-4255-9afb-06b067194c46",
   "metadata": {},
   "outputs": [],
   "source": [
    "def save_best(models,model_results):\n",
    "    torch.save(models[model_results.index(max(model_results))],'best.pth')"
   ]
  },
  {
   "cell_type": "code",
   "execution_count": 23,
   "id": "45f6d0d4-05d4-4d81-bbd0-22e9e2ce84b5",
   "metadata": {},
   "outputs": [
    {
     "name": "stdout",
     "output_type": "stream",
     "text": [
      "Training model  Sequential(\n",
      "  (0): Linear(in_features=32, out_features=128, bias=True)\n",
      "  (1): ReLU()\n",
      "  (2): Linear(in_features=128, out_features=32, bias=True)\n",
      ")\n",
      "Epoch------> 0 Loss-----> tensor(0.0161, grad_fn=<DivBackward0>) Time----->4.802769184112549 seconds\n",
      "Epoch------> 1 Loss-----> tensor(0.0160, grad_fn=<DivBackward0>) Time----->4.752690553665161 seconds\n",
      "Epoch------> 2 Loss-----> tensor(0.0160, grad_fn=<DivBackward0>) Time----->5.017679214477539 seconds\n",
      "Epoch------> 3 Loss-----> tensor(0.0160, grad_fn=<DivBackward0>) Time----->4.898817539215088 seconds\n",
      "Epoch------> 4 Loss-----> tensor(0.0160, grad_fn=<DivBackward0>) Time----->4.756211280822754 seconds\n",
      "Epoch------> 5 Loss-----> tensor(0.0160, grad_fn=<DivBackward0>) Time----->4.670623064041138 seconds\n",
      "Epoch------> 6 Loss-----> tensor(0.0160, grad_fn=<DivBackward0>) Time----->4.704823970794678 seconds\n",
      "Epoch------> 7 Loss-----> tensor(0.0160, grad_fn=<DivBackward0>) Time----->4.686844825744629 seconds\n",
      "Epoch------> 8 Loss-----> tensor(0.0160, grad_fn=<DivBackward0>) Time----->4.770248174667358 seconds\n",
      "Epoch------> 9 Loss-----> tensor(0.0160, grad_fn=<DivBackward0>) Time----->4.742826223373413 seconds\n",
      "Validation result=23.820526123046875\n",
      "Training model  Sequential(\n",
      "  (0): Linear(in_features=32, out_features=128, bias=True)\n",
      "  (1): ReLU()\n",
      "  (2): Conv2d(3, 3, kernel_size=(2, 2), stride=(1, 1))\n",
      "  (3): ReLU()\n",
      "  (4): ConvTranspose2d(3, 3, kernel_size=(2, 2), stride=(1, 1))\n",
      "  (5): ReLU()\n",
      "  (6): Linear(in_features=128, out_features=32, bias=True)\n",
      ")\n",
      "Epoch------> 0 Loss-----> tensor(0.0157, grad_fn=<DivBackward0>) Time----->23.841297149658203 seconds\n",
      "Epoch------> 1 Loss-----> tensor(0.0155, grad_fn=<DivBackward0>) Time----->23.912819385528564 seconds\n",
      "Epoch------> 2 Loss-----> tensor(0.0155, grad_fn=<DivBackward0>) Time----->23.691243171691895 seconds\n",
      "Epoch------> 3 Loss-----> tensor(0.0154, grad_fn=<DivBackward0>) Time----->23.750895261764526 seconds\n",
      "Epoch------> 4 Loss-----> tensor(0.0154, grad_fn=<DivBackward0>) Time----->23.77006244659424 seconds\n",
      "Epoch------> 5 Loss-----> tensor(0.0153, grad_fn=<DivBackward0>) Time----->23.72042679786682 seconds\n",
      "Epoch------> 6 Loss-----> tensor(0.0153, grad_fn=<DivBackward0>) Time----->23.86230707168579 seconds\n",
      "Epoch------> 7 Loss-----> tensor(0.0153, grad_fn=<DivBackward0>) Time----->23.6365864276886 seconds\n",
      "Epoch------> 8 Loss-----> tensor(0.0153, grad_fn=<DivBackward0>) Time----->23.767154455184937 seconds\n",
      "Epoch------> 9 Loss-----> tensor(0.0152, grad_fn=<DivBackward0>) Time----->23.937310218811035 seconds\n",
      "Validation result=24.38338851928711\n",
      "Training model  Sequential(\n",
      "  (0): Linear(in_features=32, out_features=128, bias=True)\n",
      "  (1): ReLU()\n",
      "  (2): Conv2d(3, 3, kernel_size=(2, 2), stride=(2, 2))\n",
      "  (3): ReLU()\n",
      "  (4): ConvTranspose2d(3, 3, kernel_size=(2, 2), stride=(2, 2))\n",
      "  (5): ReLU()\n",
      "  (6): Linear(in_features=128, out_features=32, bias=True)\n",
      ")\n",
      "Epoch------> 0 Loss-----> tensor(0.0157, grad_fn=<DivBackward0>) Time----->13.691840648651123 seconds\n",
      "Epoch------> 1 Loss-----> tensor(0.0157, grad_fn=<DivBackward0>) Time----->13.665117740631104 seconds\n",
      "Epoch------> 2 Loss-----> tensor(0.0157, grad_fn=<DivBackward0>) Time----->13.66755485534668 seconds\n",
      "Epoch------> 3 Loss-----> tensor(0.0156, grad_fn=<DivBackward0>) Time----->13.768674850463867 seconds\n",
      "Epoch------> 4 Loss-----> tensor(0.0156, grad_fn=<DivBackward0>) Time----->13.666703701019287 seconds\n",
      "Epoch------> 5 Loss-----> tensor(0.0156, grad_fn=<DivBackward0>) Time----->13.91861605644226 seconds\n",
      "Epoch------> 6 Loss-----> tensor(0.0156, grad_fn=<DivBackward0>) Time----->13.831338167190552 seconds\n",
      "Epoch------> 7 Loss-----> tensor(0.0156, grad_fn=<DivBackward0>) Time----->13.392888069152832 seconds\n",
      "Epoch------> 8 Loss-----> tensor(0.0156, grad_fn=<DivBackward0>) Time----->13.424957513809204 seconds\n",
      "Epoch------> 9 Loss-----> tensor(0.0156, grad_fn=<DivBackward0>) Time----->13.526197910308838 seconds\n",
      "Validation result=24.163856506347656\n"
     ]
    }
   ],
   "source": [
    "model_results=[]\n",
    "models=[model1,model2,model3]\n",
    "for model in models:\n",
    "    print('Training model ',model)\n",
    "    bs=100\n",
    "    train_model(model,train_input,train_target,bs)\n",
    "    res=test_model(model,test_input,test_target,bs)\n",
    "    print('Validation result={}'.format(res))\n",
    "    model_results.append(res)"
   ]
  },
  {
   "cell_type": "code",
   "execution_count": 143,
   "id": "d2988fd2-f24a-49a1-acc4-437dd3478d53",
   "metadata": {},
   "outputs": [],
   "source": [
    "def psnr_one(denoised,ground_truth):\n",
    "    mse=torch.mean((denoised-ground_truth)**2)\n",
    "    return  - 10 * torch.log10(((denoised-ground_truth) ** 2))"
   ]
  },
  {
   "cell_type": "code",
   "execution_count": 24,
   "id": "17ec14d1-6e8b-4aa0-87ab-b4b3acb28f14",
   "metadata": {},
   "outputs": [],
   "source": [
    "plt.rcParams[\"savefig.bbox\"] = 'tight'\n",
    "torch.manual_seed(1)\n",
    "\n",
    "\n",
    "def show(imgs):\n",
    "    fix, axs = plt.subplots(ncols=len(imgs), squeeze=False)\n",
    "    for i, img in enumerate(imgs):\n",
    "        img = T.ToPILImage()(img)\n",
    "        axs[0, i].imshow(np.asarray(img))\n",
    "        axs[0, i].set(xticklabels=[], yticklabels=[], xticks=[], yticks=[])"
   ]
  },
  {
   "cell_type": "code",
   "execution_count": 25,
   "id": "394cc6c7-c478-4f74-bf91-3812005f12a9",
   "metadata": {},
   "outputs": [
    {
     "data": {
      "image/png": "[encoded data removed]",
      "text/plain": [
       "<Figure size 432x288 with 2 Axes>"
      ]
     },
     "metadata": {},
     "output_type": "display_data"
    }
   ],
   "source": [
    "show(test_input[0:2])"
   ]
  },
  {
   "cell_type": "code",
   "execution_count": 26,
   "id": "abd937c4-3d70-47b4-8664-7bbc6075fbc0",
   "metadata": {},
   "outputs": [
    {
     "data": {
      "image/png": "[encoded data removed]",
      "text/plain": [
       "<Figure size 432x288 with 2 Axes>"
      ]
     },
     "metadata": {},
     "output_type": "display_data"
    }
   ],
   "source": [
    "show(model6(test_input[0:2]))"
   ]
  },
  {
   "cell_type": "code",
   "execution_count": 27,
   "id": "1263a994-c479-4315-9f3f-8226e228a876",
   "metadata": {},
   "outputs": [
    {
     "data": {
      "image/png": "[encoded data removed]",
      "text/plain": [
       "<Figure size 432x288 with 2 Axes>"
      ]
     },
     "metadata": {},
     "output_type": "display_data"
    }
   ],
   "source": [
    "show(test_target[0:2])"
   ]
  },
  {
   "cell_type": "code",
   "execution_count": null,
   "id": "cc73a36c",
   "metadata": {},
   "outputs": [],
   "source": [
    "### For mini - project 1\n",
    "class Model ():\n",
    "    def __init__(self) -> None :\n",
    "        ## instantiate model + optimizer + loss function + any other stuff you need\n",
    "        self.model=\n",
    "        pass\n",
    "\n",
    "    def load_pretrained_model(self) -> None :\n",
    "        ## This loads the parameters saved in bestmodel.pth into the model\n",
    "        torch.load('bestmodel.pth')\n",
    "        pass\n",
    "\n",
    "    def train(self, train_input, train_target, num_epochs, batch_size) -> None :\n",
    "        #: train˙input : tensor of size (N, C, H, W) containing a noisy version of the images\n",
    "        #: train˙target : tensor of size (N, C, H, W) containing another noisy version of the same images , which only differs from the input by their noise .\n",
    "        \n",
    "        pass\n",
    "\n",
    "    def predict(self, test_input ) -> torch.Tensor:\n",
    "        #:test_input : tensor of size (N1 , C, H, W) that has to be denoised by the trained or the loaded network .\n",
    "        #: returns a tensor of the size (N1 , C, H, W)\n",
    "        pass"
   ]
  }
 ],
 "metadata": {
  "interpreter": {
   "hash": "f479164b9bbf2e5d1a2ccdac69e157cad417e6bd162fe987eb3e40368ed824ca"
  },
  "jupytext": {
   "cell_metadata_filter": "-all",
   "main_language": "python",
   "notebook_metadata_filter": "-all"
  },
  "kernelspec": {
   "display_name": "Python 3 (ipykernel)",
   "language": "python",
   "name": "python3"
  },
  "language_info": {
   "codemirror_mode": {
    "name": "ipython",
    "version": 3
   },
   "file_extension": ".py",
   "mimetype": "text/x-python",
   "name": "python",
   "nbconvert_exporter": "python",
   "pygments_lexer": "ipython3",
   "version": "3.9.7"
  }
 },
 "nbformat": 4,
 "nbformat_minor": 5
}
