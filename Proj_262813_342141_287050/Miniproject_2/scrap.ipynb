{
 "cells": [
  {
   "cell_type": "code",
   "execution_count": 1,
   "metadata": {},
   "outputs": [],
   "source": [
    "%load_ext autoreload\n",
    "%autoreload 2\n",
    "\n",
    "from model import *\n",
    "\n",
    "\n",
    "\n",
    "from torch import empty, cat, arange\n",
    "from torch.nn.functional import fold, unfold\n",
    "from torch import nn"
   ]
  },
  {
   "cell_type": "code",
   "execution_count": 2,
   "metadata": {},
   "outputs": [
    {
     "data": {
      "text/plain": [
       "(tensor([[[[ 0.3076, -0.1662, -1.7081, -0.8811],\n",
       "           [ 0.9332, -1.0365,  0.8057, -1.5227],\n",
       "           [-0.9509,  0.1078,  0.0940, -2.0766],\n",
       "           [ 2.4122, -0.1258,  0.3462,  1.3392]],\n",
       " \n",
       "          [[ 1.5286, -2.5407,  1.6176, -0.1127],\n",
       "           [-0.4696, -0.7762, -0.4973,  1.9874],\n",
       "           [ 1.0639, -0.2287,  0.1522, -0.9330],\n",
       "           [-0.0557,  1.3332, -0.9440,  0.3977]],\n",
       " \n",
       "          [[ 1.7426,  0.8656, -0.6888, -0.9325],\n",
       "           [ 0.1123, -0.7247,  0.7746, -0.3012],\n",
       "           [-0.1316, -0.3452, -0.3065, -0.0761],\n",
       "           [-1.7047, -2.0099, -0.7010,  0.0794]]]]),\n",
       " tensor([[[[1., 1., 1., 1.],\n",
       "           [1., 1., 1., 1.],\n",
       "           [1., 1., 1., 1.],\n",
       "           [1., 1., 1., 1.]],\n",
       " \n",
       "          [[1., 1., 1., 1.],\n",
       "           [1., 1., 1., 1.],\n",
       "           [1., 1., 1., 1.],\n",
       "           [1., 1., 1., 1.]],\n",
       " \n",
       "          [[1., 1., 1., 1.],\n",
       "           [1., 1., 1., 1.],\n",
       "           [1., 1., 1., 1.],\n",
       "           [1., 1., 1., 1.]]]]))"
      ]
     },
     "execution_count": 2,
     "metadata": {},
     "output_type": "execute_result"
    }
   ],
   "source": [
    "x = torch.randn((1, 3, 4, 4))\n",
    "\n",
    "# x = torch.tensor(\n",
    "    # [[0, 1., 0],     \n",
    "    # [2, 0, 0],\n",
    "    # [0, 0, 1]])\n",
    "\n",
    "# y = torch.ones(x.shape)\n",
    "y = torch.ones((1, 3, 4, 4))\n",
    "\n",
    "x, y"
   ]
  },
  {
   "cell_type": "code",
   "execution_count": 94,
   "metadata": {},
   "outputs": [
    {
     "data": {
      "text/plain": [
       "tensor([[[[ 0.6936,  0.6936,  0.6936],\n",
       "          [ 0.6936,  0.6936,  0.6936],\n",
       "          [ 0.6936,  0.6936,  0.6936]],\n",
       "\n",
       "         [[ 0.1451,  0.1451,  0.1451],\n",
       "          [ 0.1451,  0.1451,  0.1451],\n",
       "          [ 0.1451,  0.1451,  0.1451]],\n",
       "\n",
       "         [[-0.7132, -0.7132, -0.7132],\n",
       "          [-0.7132, -0.7132, -0.7132],\n",
       "          [-0.7132, -0.7132, -0.7132]],\n",
       "\n",
       "         [[ 0.7310,  0.7310,  0.7310],\n",
       "          [ 0.7310,  0.7310,  0.7310],\n",
       "          [ 0.7310,  0.7310,  0.7310]]]])"
      ]
     },
     "execution_count": 94,
     "metadata": {},
     "output_type": "execute_result"
    }
   ],
   "source": [
    "conv = nn.Conv2d(3, 4, 2)\n",
    "expected = conv(y)\n",
    "expected"
   ]
  },
  {
   "cell_type": "code",
   "execution_count": 96,
   "metadata": {},
   "outputs": [],
   "source": [
    "# torch.nn.Unfold(kernel_size=2)(x)\n",
    "\n",
    "kernel_size = (2, 2)\n",
    "out_channels = 4\n",
    "\n",
    "# Output of convolution as a matrix product\n",
    "unfolded = torch.nn.functional.unfold(y, kernel_size=kernel_size)\n",
    "# unfolded\n",
    "\n",
    "wxb = conv.weight.view(out_channels, -1) @ unfolded + conv.bias.view(1, -1, 1)\n",
    "actual = wxb.view(1, out_channels, y.shape[2] - kernel_size[0] + 1, y.shape[3] - kernel_size[1]+ 1)\n",
    "torch.testing.assert_allclose(actual, expected)"
   ]
  },
  {
   "cell_type": "markdown",
   "metadata": {},
   "source": [
    "### Testing our Conv2d Layer "
   ]
  },
  {
   "cell_type": "markdown",
   "metadata": {},
   "source": [
    "Forward pass"
   ]
  },
  {
   "cell_type": "code",
   "execution_count": 133,
   "metadata": {},
   "outputs": [
    {
     "data": {
      "text/plain": [
       "tensor([[[[-0.1934,  0.6827, -1.0966],\n",
       "          [ 0.0961,  0.2508,  0.3367],\n",
       "          [-0.3127,  0.6376, -0.2396]],\n",
       "\n",
       "         [[-0.4834, -0.1858, -0.7048],\n",
       "          [-0.0870, -0.5169, -0.5492],\n",
       "          [-0.6541, -0.4518, -0.8561]],\n",
       "\n",
       "         [[ 0.3024, -0.9491,  0.3033],\n",
       "          [ 0.1651, -0.5372,  0.0725],\n",
       "          [ 0.4081, -0.0865,  0.3034]],\n",
       "\n",
       "         [[ 0.6818, -0.6914,  1.0980],\n",
       "          [-0.7440,  0.0023, -0.6106],\n",
       "          [ 0.5955, -1.0637,  0.2999]]]])"
      ]
     },
     "execution_count": 133,
     "metadata": {},
     "output_type": "execute_result"
    }
   ],
   "source": [
    "# testing our conv2d layer\n",
    "my_conv = Conv2d(3, 4, 2)\n",
    "x2 = my_conv.forward(x)\n",
    "x2"
   ]
  },
  {
   "cell_type": "code",
   "execution_count": 61,
   "metadata": {},
   "outputs": [],
   "source": [
    "torch.testing.assert_allclose(my_conv.forward(x), torch.nn.functional.conv2d(x, my_conv.weight, my_conv.bias))"
   ]
  },
  {
   "cell_type": "markdown",
   "metadata": {},
   "source": [
    "Backward pass"
   ]
  },
  {
   "cell_type": "markdown",
   "metadata": {},
   "source": [
    "### Other tests"
   ]
  },
  {
   "cell_type": "code",
   "execution_count": 5,
   "metadata": {},
   "outputs": [
    {
     "data": {
      "text/plain": [
       "torch.Size([4, 12])"
      ]
     },
     "execution_count": 5,
     "metadata": {},
     "output_type": "execute_result"
    }
   ],
   "source": [
    "conv.weight.view(out_channels, -1).size()"
   ]
  },
  {
   "cell_type": "code",
   "execution_count": 118,
   "metadata": {},
   "outputs": [
    {
     "data": {
      "text/plain": [
       "torch.Size([1, 3, 4, 4])"
      ]
     },
     "execution_count": 118,
     "metadata": {},
     "output_type": "execute_result"
    }
   ],
   "source": [
    "x.size()"
   ]
  },
  {
   "cell_type": "code",
   "execution_count": 112,
   "metadata": {},
   "outputs": [
    {
     "data": {
      "text/plain": [
       "torch.Size([1, 12, 9])"
      ]
     },
     "execution_count": 112,
     "metadata": {},
     "output_type": "execute_result"
    }
   ],
   "source": [
    "unfolded.size()"
   ]
  },
  {
   "cell_type": "code",
   "execution_count": 115,
   "metadata": {},
   "outputs": [
    {
     "data": {
      "text/plain": [
       "torch.Size([1, 4, 9])"
      ]
     },
     "execution_count": 115,
     "metadata": {},
     "output_type": "execute_result"
    }
   ],
   "source": [
    "\n",
    "wxb.size()"
   ]
  },
  {
   "cell_type": "code",
   "execution_count": 81,
   "metadata": {},
   "outputs": [
    {
     "data": {
      "text/plain": [
       "tensor([[0.5000, 0.7311, 0.5000],\n",
       "        [0.8808, 0.5000, 0.5000],\n",
       "        [0.5000, 0.5000, 0.7311]])"
      ]
     },
     "execution_count": 81,
     "metadata": {},
     "output_type": "execute_result"
    }
   ],
   "source": [
    "# relu = ReLU()\n",
    "f=Sigmoid()\n",
    "\n",
    "f.forward(x)"
   ]
  },
  {
   "cell_type": "code",
   "execution_count": 82,
   "metadata": {},
   "outputs": [
    {
     "data": {
      "text/plain": [
       "tensor([[0.5000, 0.2689, 0.5000],\n",
       "        [0.1192, 0.5000, 0.5000],\n",
       "        [0.5000, 0.5000, 0.2689]])"
      ]
     },
     "execution_count": 82,
     "metadata": {},
     "output_type": "execute_result"
    }
   ],
   "source": [
    "f.backward(y)"
   ]
  },
  {
   "cell_type": "code",
   "execution_count": null,
   "metadata": {},
   "outputs": [],
   "source": []
  },
  {
   "cell_type": "code",
   "execution_count": null,
   "metadata": {},
   "outputs": [],
   "source": []
  },
  {
   "cell_type": "code",
   "execution_count": null,
   "metadata": {},
   "outputs": [],
   "source": []
  }
 ],
 "metadata": {
  "interpreter": {
   "hash": "05c62fd4a2c0b8f9b34fd07d525d94a1e9beb33a056c649ea73d5b364e4320b5"
  },
  "kernelspec": {
   "display_name": "Python 3.8.11 ('ds')",
   "language": "python",
   "name": "python3"
  },
  "language_info": {
   "codemirror_mode": {
    "name": "ipython",
    "version": 3
   },
   "file_extension": ".py",
   "mimetype": "text/x-python",
   "name": "python",
   "nbconvert_exporter": "python",
   "pygments_lexer": "ipython3",
   "version": "3.8.11"
  },
  "orig_nbformat": 4
 },
 "nbformat": 4,
 "nbformat_minor": 2
}
