{
 "cells": [
  {
   "cell_type": "code",
   "execution_count": 1,
   "metadata": {},
   "outputs": [],
   "source": [
    "%load_ext autoreload\n",
    "%autoreload 2\n",
    "\n",
    "from torch import empty, cat, arange\n",
    "from torch.nn.functional import fold, unfold\n",
    "from torch import nn\n",
    "\n",
    "\n",
    "from model import *\n",
    "import pickle\n"
   ]
  },
  {
   "cell_type": "code",
   "execution_count": 2,
   "metadata": {},
   "outputs": [],
   "source": [
    "#torch.set_grad_enabled(False)"
   ]
  },
  {
   "cell_type": "code",
   "execution_count": 3,
   "metadata": {},
   "outputs": [],
   "source": [
    "# loading image data\n",
    "noisy_imgs_1, noisy_imgs_2 = torch.load('../../data/train_data.pkl')\n",
    "noisy_imgs, clean_imgs = torch.load('../../data/val_data.pkl')\n",
    "\n",
    "train_input, train_target = noisy_imgs_1.float()/255.0, noisy_imgs_2.float()/255.0 \n",
    "test_input, test_target = noisy_imgs.float()/255.0, clean_imgs.float()/255.0"
   ]
  },
  {
   "cell_type": "code",
   "execution_count": 4,
   "metadata": {},
   "outputs": [
    {
     "data": {
      "text/plain": [
       "torch.Size([10, 3, 32, 32])"
      ]
     },
     "execution_count": 4,
     "metadata": {},
     "output_type": "execute_result"
    }
   ],
   "source": [
    "# take batch of size 1\n",
    "input_batch = train_input[:10,:,:,:]\n",
    "target_batch = train_target[:10,:,:,:]\n",
    "input_batch.shape"
   ]
  },
  {
   "cell_type": "code",
   "execution_count": 5,
   "metadata": {},
   "outputs": [],
   "source": [
    "# create some tensors for simple tests\n",
    "x = torch.randn((1, 3, 4, 4))\n",
    "\n",
    "# y = torch.ones(x.shape)\n",
    "y = torch.ones((1, 3, 4, 4))"
   ]
  },
  {
   "cell_type": "markdown",
   "metadata": {},
   "source": [
    "### Testing our Conv2d Layer "
   ]
  },
  {
   "cell_type": "markdown",
   "metadata": {},
   "source": [
    "Forward pass"
   ]
  },
  {
   "cell_type": "code",
   "execution_count": 6,
   "metadata": {},
   "outputs": [
    {
     "data": {
      "text/plain": [
       "(torch.Size([10, 3, 32, 32]), torch.Size([10, 3, 32, 32]))"
      ]
     },
     "execution_count": 6,
     "metadata": {},
     "output_type": "execute_result"
    }
   ],
   "source": [
    "input_batch.shape, target_batch.shape"
   ]
  },
  {
   "cell_type": "code",
   "execution_count": 7,
   "metadata": {},
   "outputs": [
    {
     "data": {
      "text/plain": [
       "torch.Size([10, 4, 16, 16])"
      ]
     },
     "execution_count": 7,
     "metadata": {},
     "output_type": "execute_result"
    }
   ],
   "source": [
    "# testing our conv2d layer\n",
    "my_conv = Conv2d(3, 4, 2, stride=2)\n",
    "output = my_conv.forward(input_batch)\n",
    "output.shape"
   ]
  },
  {
   "cell_type": "code",
   "execution_count": 8,
   "metadata": {},
   "outputs": [],
   "source": [
    "torch.testing.assert_allclose(my_conv.forward(input_batch), torch.nn.functional.conv2d(input_batch, my_conv.weight, my_conv.bias, stride=2))"
   ]
  },
  {
   "cell_type": "markdown",
   "metadata": {},
   "source": [
    "Backward pass"
   ]
  },
  {
   "cell_type": "code",
   "execution_count": 12,
   "metadata": {},
   "outputs": [
    {
     "data": {
      "text/plain": [
       "torch.Size([10, 3, 32, 32])"
      ]
     },
     "execution_count": 12,
     "metadata": {},
     "output_type": "execute_result"
    }
   ],
   "source": [
    "back = my_conv.backward(output)\n",
    "back.shape"
   ]
  },
  {
   "cell_type": "markdown",
   "metadata": {},
   "source": [
    "### Testing our Upsampling (TransposeConv2d) layer"
   ]
  },
  {
   "cell_type": "markdown",
   "metadata": {},
   "source": [
    "Forward pass"
   ]
  },
  {
   "cell_type": "code",
   "execution_count": 13,
   "metadata": {},
   "outputs": [
    {
     "data": {
      "text/plain": [
       "torch.Size([10, 3, 32, 32])"
      ]
     },
     "execution_count": 13,
     "metadata": {},
     "output_type": "execute_result"
    }
   ],
   "source": [
    "input_batch.shape"
   ]
  },
  {
   "cell_type": "code",
   "execution_count": 14,
   "metadata": {},
   "outputs": [
    {
     "data": {
      "text/plain": [
       "torch.Size([10, 5, 64, 64])"
      ]
     },
     "execution_count": 14,
     "metadata": {},
     "output_type": "execute_result"
    }
   ],
   "source": [
    "my_t_conv = Upsampling(3, 5, 2, stride=2)\n",
    "upsampled = my_t_conv.forward(input_batch)\n",
    "upsampled.shape"
   ]
  },
  {
   "cell_type": "code",
   "execution_count": 15,
   "metadata": {},
   "outputs": [],
   "source": [
    "torch.testing.assert_allclose(my_t_conv.forward(input_batch), torch.nn.functional.conv_transpose2d(input_batch, my_t_conv.weight, my_t_conv.bias, stride=2))"
   ]
  },
  {
   "cell_type": "markdown",
   "metadata": {},
   "source": [
    "Backward pass"
   ]
  },
  {
   "cell_type": "code",
   "execution_count": 16,
   "metadata": {},
   "outputs": [
    {
     "data": {
      "text/plain": [
       "torch.Size([10, 3, 32, 32])"
      ]
     },
     "execution_count": 16,
     "metadata": {},
     "output_type": "execute_result"
    }
   ],
   "source": [
    "back_t = my_t_conv.backward(upsampled)\n",
    "back_t.shape"
   ]
  },
  {
   "cell_type": "markdown",
   "metadata": {},
   "source": [
    "### Sequential model testing"
   ]
  },
  {
   "cell_type": "code",
   "execution_count": 18,
   "metadata": {},
   "outputs": [
    {
     "data": {
      "text/plain": [
       "(torch.Size([1, 4, 3, 3]), torch.Size([1, 3, 4, 4]))"
      ]
     },
     "execution_count": 18,
     "metadata": {},
     "output_type": "execute_result"
    }
   ],
   "source": [
    "model = Sequential(Conv2d(3,4,2), ReLU())\n",
    "forward_pass = model.forward(x)\n",
    "backward_pass = model.backward(forward_pass)\n",
    "forward_pass.shape, backward_pass.shape"
   ]
  },
  {
   "cell_type": "markdown",
   "metadata": {},
   "source": [
    "### Testing model"
   ]
  },
  {
   "cell_type": "code",
   "execution_count": 24,
   "metadata": {},
   "outputs": [
    {
     "data": {
      "text/plain": [
       "(torch.Size([100, 3, 32, 32]), torch.Size([0, 3, 32, 32]))"
      ]
     },
     "execution_count": 24,
     "metadata": {},
     "output_type": "execute_result"
    }
   ],
   "source": [
    "train_input_batch = train_input[:100, :, :, :]\n",
    "train_target_batch = train_target[:100, :, :, :]\n",
    "train_input_batch.shape, train_target_batch.shape"
   ]
  },
  {
   "cell_type": "markdown",
   "metadata": {},
   "source": [
    "Train the model "
   ]
  },
  {
   "cell_type": "code",
   "execution_count": 20,
   "metadata": {},
   "outputs": [
    {
     "name": "stdout",
     "output_type": "stream",
     "text": [
      "0 iteration: loss=0.7453855872154236\n",
      "1 iteration: loss=0.7247834205627441\n",
      "2 iteration: loss=0.7232609391212463\n",
      "3 iteration: loss=0.7229578495025635\n",
      "4 iteration: loss=0.7227702736854553\n",
      "5 iteration: loss=0.7226124405860901\n",
      "6 iteration: loss=0.722456693649292\n",
      "7 iteration: loss=0.7223063707351685\n",
      "8 iteration: loss=0.7221737504005432\n",
      "9 iteration: loss=0.7220564484596252\n",
      "10 iteration: loss=0.72194504737854\n",
      "11 iteration: loss=0.721835732460022\n",
      "12 iteration: loss=0.7217323780059814\n",
      "13 iteration: loss=0.7216359376907349\n",
      "14 iteration: loss=0.7215480208396912\n",
      "15 iteration: loss=0.7214692831039429\n",
      "16 iteration: loss=0.7213974595069885\n",
      "17 iteration: loss=0.7213294506072998\n",
      "18 iteration: loss=0.7212637066841125\n",
      "19 iteration: loss=0.7211973667144775\n",
      "20 iteration: loss=0.721129298210144\n",
      "21 iteration: loss=0.7210604548454285\n",
      "22 iteration: loss=0.7209893465042114\n",
      "23 iteration: loss=0.720916748046875\n",
      "24 iteration: loss=0.7208458185195923\n",
      "25 iteration: loss=0.7207791805267334\n",
      "26 iteration: loss=0.7207168340682983\n",
      "27 iteration: loss=0.7206614017486572\n",
      "28 iteration: loss=0.7206118106842041\n",
      "29 iteration: loss=0.7205650210380554\n",
      "30 iteration: loss=0.7205192446708679\n",
      "31 iteration: loss=0.7204731106758118\n",
      "32 iteration: loss=0.7204257249832153\n",
      "33 iteration: loss=0.720376193523407\n",
      "34 iteration: loss=0.7203224897384644\n",
      "35 iteration: loss=0.7202633023262024\n",
      "36 iteration: loss=0.7202034592628479\n",
      "37 iteration: loss=0.7201560139656067\n",
      "38 iteration: loss=0.7201196551322937\n",
      "39 iteration: loss=0.7200852632522583\n",
      "40 iteration: loss=0.7200508713722229\n",
      "41 iteration: loss=0.7200167775154114\n",
      "42 iteration: loss=0.7199832201004028\n",
      "43 iteration: loss=0.719950258731842\n",
      "44 iteration: loss=0.7199181318283081\n",
      "45 iteration: loss=0.7198865413665771\n",
      "46 iteration: loss=0.7198554873466492\n",
      "47 iteration: loss=0.7198245525360107\n",
      "48 iteration: loss=0.7197940349578857\n",
      "49 iteration: loss=0.7197638750076294\n"
     ]
    }
   ],
   "source": [
    "model = Model()\n",
    "model.train(train_input_batch, train_target_batch, 50)"
   ]
  },
  {
   "cell_type": "markdown",
   "metadata": {},
   "source": [
    "Prediction and psnr score"
   ]
  },
  {
   "cell_type": "code",
   "execution_count": 21,
   "metadata": {},
   "outputs": [],
   "source": [
    "def psnr(denoised,ground_truth):\n",
    "    mse=torch.mean((denoised-ground_truth)**2)\n",
    "    return  - 10 * torch.log10(((denoised-ground_truth) ** 2).mean((1,2,3))).mean()"
   ]
  },
  {
   "cell_type": "code",
   "execution_count": 22,
   "metadata": {},
   "outputs": [
    {
     "data": {
      "text/plain": [
       "tensor(12.7146)"
      ]
     },
     "execution_count": 22,
     "metadata": {},
     "output_type": "execute_result"
    }
   ],
   "source": [
    "prediction = model.predict(test_input)\n",
    "psnr(prediction, test_target)"
   ]
  },
  {
   "cell_type": "markdown",
   "metadata": {},
   "source": [
    "Save the model"
   ]
  },
  {
   "cell_type": "code",
   "execution_count": 129,
   "metadata": {},
   "outputs": [],
   "source": [
    "pickle.dump(model, open('bestmodel.pkl', 'wb'))"
   ]
  }
 ],
 "metadata": {
  "interpreter": {
   "hash": "05c62fd4a2c0b8f9b34fd07d525d94a1e9beb33a056c649ea73d5b364e4320b5"
  },
  "kernelspec": {
   "display_name": "Python 3.8.11 ('ds')",
   "language": "python",
   "name": "python3"
  },
  "language_info": {
   "codemirror_mode": {
    "name": "ipython",
    "version": 3
   },
   "file_extension": ".py",
   "mimetype": "text/x-python",
   "name": "python",
   "nbconvert_exporter": "python",
   "pygments_lexer": "ipython3",
   "version": "3.8.11"
  },
  "orig_nbformat": 4
 },
 "nbformat": 4,
 "nbformat_minor": 2
}
